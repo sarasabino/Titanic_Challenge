{
  "nbformat": 4,
  "nbformat_minor": 0,
  "metadata": {
    "colab": {
      "name": "Titanic_challenge.ipynb",
      "private_outputs": true,
      "provenance": [],
      "mount_file_id": "11kfUCBUTeHKlt4V4M9rdNKBfK2YCiapt",
      "authorship_tag": "ABX9TyPvKO0lqOcafohE43NitwI3",
      "include_colab_link": true
    },
    "kernelspec": {
      "name": "python3",
      "display_name": "Python 3"
    },
    "language_info": {
      "name": "python"
    }
  },
  "cells": [
    {
      "cell_type": "markdown",
      "metadata": {
        "id": "view-in-github",
        "colab_type": "text"
      },
      "source": [
        "<a href=\"https://colab.research.google.com/github/sarasabino/Titanic_Challenge/blob/main/SRC/Titanic_challenge.ipynb\" target=\"_parent\"><img src=\"https://colab.research.google.com/assets/colab-badge.svg\" alt=\"Open In Colab\"/></a>"
      ]
    },
    {
      "cell_type": "markdown",
      "metadata": {
        "id": "Hh2oHX9JEi99"
      },
      "source": [
        "### Titanic Challenge - Predict survivals on the Titanic\n",
        "Kaggle Challenge\n",
        "\n",
        "Data, 3 files:\n",
        "- gender_submission --> example of how the predictions should be\n",
        "- test\n",
        "- train\n"
      ]
    },
    {
      "cell_type": "code",
      "metadata": {
        "id": "xwRL8WzUEsgL"
      },
      "source": [
        "#Lets check first how our final submission should look like\n",
        "\n",
        "import pandas as pd\n",
        "\n",
        "! cp /content/drive/MyDrive/'Colab Notebooks'/'Titanic Challenge Kaggle'/gender_submission.csv .\n",
        "\n",
        "\n",
        "pd.read_csv('gender_submission.csv').head()\n",
        "#The survived column will represent a yes 1 or No 0"
      ],
      "execution_count": null,
      "outputs": []
    },
    {
      "cell_type": "code",
      "metadata": {
        "id": "Vv9EdmcTF5cP"
      },
      "source": [
        "! cp /content/drive/MyDrive/'Colab Notebooks'/'Titanic Challenge Kaggle'/test.csv .\n",
        "! cp /content/drive/MyDrive/'Colab Notebooks'/'Titanic Challenge Kaggle'/train.csv .\n"
      ],
      "execution_count": null,
      "outputs": []
    },
    {
      "cell_type": "code",
      "metadata": {
        "id": "j-dTZgnMEbZ9"
      },
      "source": [
        "test = pd.read_csv('test.csv')\n",
        "train = pd.read_csv('train.csv')"
      ],
      "execution_count": null,
      "outputs": []
    },
    {
      "cell_type": "markdown",
      "metadata": {
        "id": "O55Jbja2GkjY"
      },
      "source": [
        "As we can see below we have the following characteristics from each passenger:\n",
        "- Class where they travel\n",
        "- Name\n",
        "- Age \n",
        "- Sex\n",
        "- SibSp?\n",
        "- Parch?\n",
        "- Ticket\n",
        "- Fare\n",
        "- Cabin\n",
        "- Embarked"
      ]
    },
    {
      "cell_type": "code",
      "metadata": {
        "id": "WFMjQqPEGKVl"
      },
      "source": [
        "train.head()"
      ],
      "execution_count": null,
      "outputs": []
    },
    {
      "cell_type": "code",
      "metadata": {
        "id": "DBEHZ4oqGKaC"
      },
      "source": [
        "train['PassengerId'].count() #total amount of passengers"
      ],
      "execution_count": null,
      "outputs": []
    },
    {
      "cell_type": "markdown",
      "metadata": {
        "id": "mdhjxLahHESF"
      },
      "source": [
        "## Lets analyze the data we have in train file"
      ]
    },
    {
      "cell_type": "code",
      "metadata": {
        "id": "xZNopD-vILCl"
      },
      "source": [
        "train.dtypes"
      ],
      "execution_count": null,
      "outputs": []
    },
    {
      "cell_type": "code",
      "metadata": {
        "id": "8mXxrLz2GKdZ"
      },
      "source": [
        "train.describe()"
      ],
      "execution_count": null,
      "outputs": []
    },
    {
      "cell_type": "code",
      "metadata": {
        "id": "f408id_aJO7c"
      },
      "source": [
        "died = train[['PassengerId', 'Survived']].groupby('Survived').count().reset_index() #more passengers died\n",
        "import matplotlib.pyplot as plt\n",
        "\n",
        "plt.bar(died['Survived'], died['PassengerId'])"
      ],
      "execution_count": null,
      "outputs": []
    },
    {
      "cell_type": "code",
      "metadata": {
        "id": "r_HsvNX7GKkk"
      },
      "source": [
        "train[['PassengerId', 'Sex']].groupby('Sex').count() ## the are more men"
      ],
      "execution_count": null,
      "outputs": []
    },
    {
      "cell_type": "code",
      "metadata": {
        "id": "2ProWeB6IBP3"
      },
      "source": [
        "# 3 classes, nº of passengers by class\n",
        "\n",
        "pcclass_number = train[['Pclass', 'PassengerId']].groupby('Pclass').count().reset_index()\n",
        "pcclass_number.columns"
      ],
      "execution_count": null,
      "outputs": []
    },
    {
      "cell_type": "code",
      "metadata": {
        "id": "opunCbozIo0I"
      },
      "source": [
        "import matplotlib.pyplot as plt\n",
        "\n",
        "plt.bar(pcclass_number['Pclass'], pcclass_number['PassengerId']) #third class is the majority class and second the minority"
      ],
      "execution_count": null,
      "outputs": []
    },
    {
      "cell_type": "code",
      "metadata": {
        "id": "8pWF_PMIJtB8"
      },
      "source": [
        "pcclass_number = train[['Pclass', 'PassengerId', 'Survived']].groupby(['Pclass', 'Survived']).count().reset_index()\n",
        "pcclass_number"
      ],
      "execution_count": null,
      "outputs": []
    },
    {
      "cell_type": "code",
      "metadata": {
        "id": "HFz578YnJNeO"
      },
      "source": [
        "pcclass_number_zero = pcclass_number[pcclass_number['Survived']==0]\n",
        "pcclass_number_zero.rename(columns={'PassengerId': 'Death'}, inplace=True)\n"
      ],
      "execution_count": null,
      "outputs": []
    },
    {
      "cell_type": "code",
      "metadata": {
        "id": "mjJ4-wpkL65x"
      },
      "source": [
        "pcclass_number_zero"
      ],
      "execution_count": null,
      "outputs": []
    },
    {
      "cell_type": "code",
      "metadata": {
        "id": "05xj9ci6Lg4P"
      },
      "source": [
        "pcclass_number_survived = pcclass_number[pcclass_number['Survived']==1]\n",
        "pcclass_number_survived.rename(columns={'PassengerId': 'Survivors'}, inplace=True)\n",
        "\n",
        "pcclass_number_survived"
      ],
      "execution_count": null,
      "outputs": []
    },
    {
      "cell_type": "code",
      "metadata": {
        "id": "CRtwm_VZMCW5"
      },
      "source": [
        "comp_class = pcclass_number_survived.merge(pcclass_number_zero, how='inner', on='Pclass')\n",
        "comp_class = comp_class[['Pclass', 'Survivors', 'Death']]\n",
        "comp_class['Total'] = comp_class['Survivors'] + comp_class['Death']\n",
        "comp_class"
      ],
      "execution_count": null,
      "outputs": []
    },
    {
      "cell_type": "markdown",
      "metadata": {
        "id": "PRsz4LR8MuWj"
      },
      "source": [
        "As we can see below class influences the number of deaths, as third class is the one with highest mortality rate and first the less affected.\n",
        "\n",
        "The attribute Fare should be related with the class as it represents the paid price for the ticket"
      ]
    },
    {
      "cell_type": "code",
      "metadata": {
        "id": "H4bYhwb-MYjf"
      },
      "source": [
        "comp_class['perc_death'] = comp_class['Death'] / comp_class['Total'] * 100\n",
        "comp_class"
      ],
      "execution_count": null,
      "outputs": []
    },
    {
      "cell_type": "code",
      "metadata": {
        "id": "zNoIfXlWKgZz"
      },
      "source": [
        "plt.bar(pcclass_number['Pclass'], pcclass_number['PassengerId'])"
      ],
      "execution_count": null,
      "outputs": []
    },
    {
      "cell_type": "markdown",
      "metadata": {
        "id": "C8kcZSa9NFiQ"
      },
      "source": [
        "lets discover what cabin column contains"
      ]
    },
    {
      "cell_type": "code",
      "metadata": {
        "id": "GnwF1SmwNWYA"
      },
      "source": [
        "train['Cabin'].unique()"
      ],
      "execution_count": null,
      "outputs": []
    }
  ]
}